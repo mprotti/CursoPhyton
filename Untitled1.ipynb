{
 "cells": [
  {
   "cell_type": "code",
   "execution_count": 2,
   "metadata": {},
   "outputs": [
    {
     "name": "stdout",
     "output_type": "stream",
     "text": [
      "juan\n",
      "12\n",
      "juan tiene la edad de 12\n"
     ]
    }
   ],
   "source": [
    "nombre = input ()\n",
    "edad = input ()\n",
    "\n",
    "\n",
    "print (nombre + \" tiene la edad de \" + edad)\n",
    "\n"
   ]
  },
  {
   "cell_type": "code",
   "execution_count": 3,
   "metadata": {},
   "outputs": [
    {
     "name": "stdout",
     "output_type": "stream",
     "text": [
      " Cual es su nombre marcelo\n",
      " Que edad tienes 31\n",
      "ERROR tienes la edad de ERROR\n"
     ]
    }
   ],
   "source": [
    "nombre = input(\" Cual es su nombre \")\n",
    "edad = input(\" Que edad tienes \")\n",
    "\n",
    "nombre, edad = \"ERROR\" , \"ERROR\"\n",
    "\n",
    "print(nombre + \" tienes la edad de \" + edad )\n"
   ]
  },
  {
   "cell_type": "code",
   "execution_count": 13,
   "metadata": {},
   "outputs": [
    {
     "name": "stdout",
     "output_type": "stream",
     "text": [
      " Ingrese la nota1 4\n",
      " Ingrese la nota2 5\n",
      " Ingrese la nota3 5\n",
      " Ingrese la nota4 5\n",
      " Ingrese la nota5 5\n"
     ]
    },
    {
     "ename": "TypeError",
     "evalue": "Can't convert 'int' object to str implicitly",
     "output_type": "error",
     "traceback": [
      "\u001b[0;31m---------------------------------------------------------------------------\u001b[0m",
      "\u001b[0;31mTypeError\u001b[0m                                 Traceback (most recent call last)",
      "\u001b[0;32m<ipython-input-13-660a2c21711b>\u001b[0m in \u001b[0;36m<module>\u001b[0;34m\u001b[0m\n\u001b[1;32m      8\u001b[0m \u001b[0mpromedio\u001b[0m \u001b[0;34m=\u001b[0m \u001b[0mnota1\u001b[0m \u001b[0;34m+\u001b[0m \u001b[0mnota2\u001b[0m\u001b[0;34m\u001b[0m\u001b[0m\n\u001b[1;32m      9\u001b[0m \u001b[0;34m\u001b[0m\u001b[0m\n\u001b[0;32m---> 10\u001b[0;31m \u001b[0mprint\u001b[0m \u001b[0;34m(\u001b[0m\u001b[0;34m\"El promedio de las notas es:\"\u001b[0m \u001b[0;34m+\u001b[0m \u001b[0mpromedio\u001b[0m\u001b[0;34m)\u001b[0m\u001b[0;34m\u001b[0m\u001b[0m\n\u001b[0m\u001b[1;32m     11\u001b[0m \u001b[0;34m\u001b[0m\u001b[0m\n",
      "\u001b[0;31mTypeError\u001b[0m: Can't convert 'int' object to str implicitly"
     ]
    }
   ],
   "source": [
    "\n",
    "nota1 = int(input (\" Ingrese la nota1 \"))\n",
    "nota2 = int(input (\" Ingrese la nota2 \"))\n",
    "nota3 = input (\" Ingrese la nota3 \")\n",
    "nota4 = input (\" Ingrese la nota4 \")\n",
    "nota5 = input (\" Ingrese la nota5 \")\n",
    "\n",
    "promedio = nota1 + nota2\n",
    "\n",
    "print (\"El promedio de las notas es:\" + promedio)\n",
    "\n"
   ]
  },
  {
   "cell_type": "code",
   "execution_count": null,
   "metadata": {},
   "outputs": [],
   "source": []
  }
 ],
 "metadata": {
  "kernelspec": {
   "display_name": "Python 3",
   "language": "python",
   "name": "python3"
  },
  "language_info": {
   "codemirror_mode": {
    "name": "ipython",
    "version": 3
   },
   "file_extension": ".py",
   "mimetype": "text/x-python",
   "name": "python",
   "nbconvert_exporter": "python",
   "pygments_lexer": "ipython3",
   "version": "3.5.2"
  }
 },
 "nbformat": 4,
 "nbformat_minor": 2
}
