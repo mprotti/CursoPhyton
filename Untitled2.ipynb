{
 "cells": [
  {
   "cell_type": "code",
   "execution_count": 3,
   "metadata": {},
   "outputs": [
    {
     "name": "stdout",
     "output_type": "stream",
     "text": [
      " Ingrese la nota1 5\n",
      " Ingrese la nota2 5\n",
      "55\n"
     ]
    }
   ],
   "source": [
    "\n",
    "nota1 = input (\" Ingrese la nota1 \")\n",
    "nota2 = input (\" Ingrese la nota2 \")\n",
    "\n",
    "\n",
    "promedio = nota1 + nota2\n",
    "\n",
    "print (int(promedio))"
   ]
  },
  {
   "cell_type": "code",
   "execution_count": null,
   "metadata": {},
   "outputs": [],
   "source": []
  }
 ],
 "metadata": {
  "kernelspec": {
   "display_name": "Python 3",
   "language": "python",
   "name": "python3"
  },
  "language_info": {
   "codemirror_mode": {
    "name": "ipython",
    "version": 3
   },
   "file_extension": ".py",
   "mimetype": "text/x-python",
   "name": "python",
   "nbconvert_exporter": "python",
   "pygments_lexer": "ipython3",
   "version": "3.5.2"
  }
 },
 "nbformat": 4,
 "nbformat_minor": 2
}
