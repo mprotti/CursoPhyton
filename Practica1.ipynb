{
 "cells": [
  {
   "cell_type": "code",
   "execution_count": 1,
   "metadata": {},
   "outputs": [],
   "source": [
    "words = [\"alpha\",\"omega\",\"up\",\"down\",\"over\",\"under\",\"purple\",\"red\",\"blue\",\"green\"]"
   ]
  },
  {
   "cell_type": "code",
   "execution_count": 12,
   "metadata": {},
   "outputs": [
    {
     "name": "stdout",
     "output_type": "stream",
     "text": [
      "alpha\n",
      "omega\n",
      "up\n",
      "down\n",
      "over\n",
      "under\n",
      "purple\n",
      "red\n",
      "blue\n",
      "green\n",
      "alpha\n",
      "omega\n",
      "down\n",
      "over\n",
      "under\n",
      "purple\n",
      "blue\n",
      "green\n"
     ]
    }
   ],
   "source": [
    "def FiltrarPalabras (words,n):\n",
    "    for i in words:\n",
    "        if len (i) > n:\n",
    "            print(i)\n",
    "            \n",
    "        else:\n",
    "            pass\n",
    "\n",
    "FiltrarPalabras(words,1)\n",
    "\n"
   ]
  },
  {
   "cell_type": "code",
   "execution_count": 23,
   "metadata": {},
   "outputs": [
    {
     "name": "stdout",
     "output_type": "stream",
     "text": [
      "Ingrese un string:Hola Mundo CR\n",
      "H\n",
      "M\n",
      "C\n",
      "R\n"
     ]
    },
    {
     "data": {
      "text/plain": [
       "4"
      ]
     },
     "execution_count": 23,
     "metadata": {},
     "output_type": "execute_result"
    }
   ],
   "source": [
    "cadena = str(input ( \"Ingrese un string:\" ))\n",
    "\n",
    "\n",
    "\n",
    "def conteomayusculas (cadena):\n",
    "\n",
    "    contador = 0\n",
    "\n",
    "    for i in cadena:\n",
    "        if i.isupper():\n",
    "            contador +=1\n",
    "          \n",
    "            print(i)\n",
    "            \n",
    "        else:\n",
    "            pass\n",
    "    return contador\n",
    "\n",
    "conteomayusculas(cadena)\n",
    "\n",
    "\n",
    "\n",
    "\n"
   ]
  },
  {
   "cell_type": "code",
   "execution_count": 41,
   "metadata": {},
   "outputs": [
    {
     "name": "stdout",
     "output_type": "stream",
     "text": [
      "Ingrese una edad: 80\n",
      "Ingrese una edad: 80\n",
      "Ingrese una edad: 80\n",
      "Ingrese una edad: 80\n",
      "Ingrese una edad: 80\n",
      "Ingrese una edad: 80\n",
      "Ingrese una edad: 80\n",
      "Ingrese una edad: 80\n",
      "Ingrese una edad: 80\n",
      "Ingrese una edad: 80\n"
     ]
    },
    {
     "data": {
      "text/plain": [
       "10"
      ]
     },
     "execution_count": 41,
     "metadata": {},
     "output_type": "execute_result"
    }
   ],
   "source": [
    "edades = []\n",
    "\n",
    "while len(edades) <=9:\n",
    "    a = int(input(\"Ingrese una edad: \"))\n",
    "    edades.append(a)\n",
    "    \n",
    "def contMayore (l):\n",
    "    mayor20 = 0\n",
    "    for i in edades:\n",
    "        if i > 20:\n",
    "            mayor20 += 1\n",
    "    return mayor20\n",
    "\n",
    "edades = tuple(edades)\n",
    "    \n",
    "contMayore(edades)"
   ]
  },
  {
   "cell_type": "code",
   "execution_count": 25,
   "metadata": {},
   "outputs": [
    {
     "name": "stdout",
     "output_type": "stream",
     "text": [
      "iterable\n",
      "un\n",
      "es\n",
      "lista\n",
      "una\n"
     ]
    }
   ],
   "source": [
    "lista = ['una', 'lista', 'es', 'un', 'iterable']\n",
    "\n",
    "for palabra in lista[::-1]:\n",
    "    print (palabra)"
   ]
  },
  {
   "cell_type": "code",
   "execution_count": 46,
   "metadata": {},
   "outputs": [
    {
     "ename": "TypeError",
     "evalue": "'tuple' object is not callable",
     "output_type": "error",
     "traceback": [
      "\u001b[0;31m---------------------------------------------------------------------------\u001b[0m",
      "\u001b[0;31mTypeError\u001b[0m                                 Traceback (most recent call last)",
      "\u001b[0;32m<ipython-input-46-9ae0df88c0cc>\u001b[0m in \u001b[0;36m<module>\u001b[0;34m\u001b[0m\n\u001b[1;32m      3\u001b[0m \u001b[0mc\u001b[0m \u001b[0;34m=\u001b[0m \u001b[0ma\u001b[0m \u001b[0;34m+\u001b[0m \u001b[0mb\u001b[0m\u001b[0;34m\u001b[0m\u001b[0m\n\u001b[1;32m      4\u001b[0m \u001b[0;34m\u001b[0m\u001b[0m\n\u001b[0;32m----> 5\u001b[0;31m \u001b[0mprint\u001b[0m\u001b[0;34m(\u001b[0m\u001b[0mc\u001b[0m\u001b[0;34m)\u001b[0m\u001b[0;34m\u001b[0m\u001b[0m\n\u001b[0m",
      "\u001b[0;31mTypeError\u001b[0m: 'tuple' object is not callable"
     ]
    }
   ],
   "source": [
    "a = 5\n",
    "b = 10\n",
    "c = a + b\n",
    "\n",
    "print(c)"
   ]
  },
  {
   "cell_type": "code",
   "execution_count": 47,
   "metadata": {},
   "outputs": [
    {
     "ename": "TypeError",
     "evalue": "'tuple' object is not callable",
     "output_type": "error",
     "traceback": [
      "\u001b[0;31m---------------------------------------------------------------------------\u001b[0m",
      "\u001b[0;31mTypeError\u001b[0m                                 Traceback (most recent call last)",
      "\u001b[0;32m<ipython-input-47-06a4a8496f90>\u001b[0m in \u001b[0;36m<module>\u001b[0;34m\u001b[0m\n\u001b[1;32m      7\u001b[0m \u001b[0mnewArray\u001b[0m \u001b[0;34m=\u001b[0m \u001b[0mnumpy\u001b[0m\u001b[0;34m.\u001b[0m\u001b[0mappend\u001b[0m \u001b[0;34m(\u001b[0m\u001b[0ma\u001b[0m\u001b[0;34m,\u001b[0m \u001b[0;34m[\u001b[0m\u001b[0;36m10\u001b[0m\u001b[0;34m,\u001b[0m \u001b[0;36m11\u001b[0m\u001b[0;34m,\u001b[0m \u001b[0;36m12\u001b[0m\u001b[0;34m]\u001b[0m\u001b[0;34m)\u001b[0m\u001b[0;34m\u001b[0m\u001b[0m\n\u001b[1;32m      8\u001b[0m \u001b[0;34m\u001b[0m\u001b[0m\n\u001b[0;32m----> 9\u001b[0;31m \u001b[0mprint\u001b[0m\u001b[0;34m(\u001b[0m\u001b[0mnewArray\u001b[0m\u001b[0;34m)\u001b[0m\u001b[0;34m\u001b[0m\u001b[0m\n\u001b[0m\u001b[1;32m     10\u001b[0m \u001b[0;34m\u001b[0m\u001b[0m\n",
      "\u001b[0;31mTypeError\u001b[0m: 'tuple' object is not callable"
     ]
    }
   ],
   "source": [
    "\n",
    "\n",
    "import numpy\n",
    "\n",
    "a = numpy.array([1, 2, 3])\n",
    "\n",
    "newArray = numpy.append (a, [10, 11, 12])\n",
    "\n",
    "print(newArray)\n",
    "\n"
   ]
  },
  {
   "cell_type": "code",
   "execution_count": null,
   "metadata": {},
   "outputs": [],
   "source": []
  }
 ],
 "metadata": {
  "kernelspec": {
   "display_name": "Python 3",
   "language": "python",
   "name": "python3"
  },
  "language_info": {
   "codemirror_mode": {
    "name": "ipython",
    "version": 3
   },
   "file_extension": ".py",
   "mimetype": "text/x-python",
   "name": "python",
   "nbconvert_exporter": "python",
   "pygments_lexer": "ipython3",
   "version": "3.5.2"
  }
 },
 "nbformat": 4,
 "nbformat_minor": 2
}
