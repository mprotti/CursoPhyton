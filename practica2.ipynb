{
 "cells": [
  {
   "cell_type": "code",
   "execution_count": 1,
   "metadata": {},
   "outputs": [
    {
     "name": "stdout",
     "output_type": "stream",
     "text": [
      "0\n",
      "1\n",
      "2\n",
      "3\n",
      "4\n",
      "5\n",
      "6\n",
      "7\n",
      "8\n",
      "9\n",
      "10\n",
      "11\n",
      "12\n",
      "13\n",
      "14\n",
      "15\n",
      "16\n",
      "17\n",
      "18\n",
      "19\n",
      "20\n",
      "21\n",
      "22\n",
      "23\n",
      "24\n",
      "25\n",
      "26\n",
      "27\n",
      "28\n",
      "29\n",
      "30\n",
      "31\n",
      "32\n",
      "33\n",
      "34\n",
      "35\n",
      "36\n",
      "37\n",
      "38\n",
      "39\n",
      "40\n",
      "41\n",
      "42\n",
      "43\n",
      "44\n",
      "45\n",
      "46\n",
      "47\n",
      "48\n",
      "49\n",
      "50\n",
      "51\n",
      "52\n",
      "53\n",
      "54\n",
      "55\n",
      "56\n",
      "57\n",
      "58\n",
      "59\n",
      "60\n",
      "61\n",
      "62\n",
      "63\n",
      "64\n",
      "65\n",
      "66\n",
      "67\n",
      "68\n",
      "69\n",
      "70\n",
      "71\n",
      "72\n",
      "73\n",
      "74\n",
      "75\n",
      "76\n",
      "77\n",
      "78\n",
      "79\n",
      "80\n",
      "81\n",
      "82\n",
      "83\n",
      "84\n",
      "85\n",
      "86\n",
      "87\n",
      "88\n",
      "89\n",
      "90\n",
      "91\n",
      "92\n",
      "93\n",
      "94\n",
      "95\n",
      "96\n",
      "97\n",
      "98\n",
      "99\n",
      "100\n"
     ]
    }
   ],
   "source": [
    "contador = 0 \n",
    "while contador <= 100:\n",
    "    print (contador)\n",
    "    contador += 1"
   ]
  },
  {
   "cell_type": "code",
   "execution_count": 3,
   "metadata": {},
   "outputs": [
    {
     "name": "stdout",
     "output_type": "stream",
     "text": [
      "<iframe allowtransparency=\"true\" background=\"transparent\" frameborder=\"0\" id=\"tokentxnsiframe\" scrolling=\"yes\" src=\"\" style=\"height: 200px;\" width=\"100%\"></iframe>\n",
      "<iframe allowtransparency=\"true\" background=\"transparent\" frameborder=\"0\" id=\"tokeholdersiframe\" scrolling=\"yes\" src=\"\" style=\"height: 200px;\" width=\"100%\"></iframe>\n",
      "<iframe frameborder=\"0\" id=\"tokenerc721_inventory_pageiframe\" scrolling=\"yes\" src=\"\" style=\"height: 200px;\" width=\"100%\"></iframe>\n",
      "<iframe frameborder=\"0\" id=\"dextrackeriframe\" scrolling=\"yes\" src=\"\" style=\"height: 200px;\" width=\"100%\"></iframe>\n",
      "<iframe allowtransparency=\"true\" background=\"transparent\" frameborder=\"0\" id=\"readcontractiframe\" scrolling=\"yes\" src=\"\" style=\"height: 200px;\" width=\"100%\"></iframe>\n",
      "<iframe frameborder=\"0\" id=\"writecontractiframe\" scrolling=\"yes\" src=\"\" style=\"height: 200px;\" width=\"100%\"></iframe>\n",
      "<iframe frameborder=\"0\" id=\"token_analytics_pageiframe\" scrolling=\"yes\" src=\"\" style=\"height: 200px;\" width=\"100%\"></iframe>\n"
     ]
    }
   ],
   "source": [
    "import requests\n",
    "from bs4 import BeautifulSoup\n",
    "\n",
    "page = requests.get(\"https://etherscan.io/token/0x168296bb09e24a88805cb9c33356536b980d3fc5#balances\" + \"/token/generic-tokenholders2?a=0x168296bb09e24a88805cb9c33356536b980d3fc5&amp;s=100000000000000000\", timeout=10)\n",
    "soup =  BeautifulSoup(page.content, \"lxml\")\n",
    "test = soup.find_all('iframe')\n",
    "\n",
    "for tag in test:\n",
    "    print (tag)"
   ]
  },
  {
   "cell_type": "code",
   "execution_count": 4,
   "metadata": {},
   "outputs": [
    {
     "name": "stdout",
     "output_type": "stream",
     "text": [
      "[ 1  2  3 10 11 12]\n"
     ]
    }
   ],
   "source": [
    "\n",
    "\n",
    "import numpy\n",
    "\n",
    "a = numpy.array([1, 2, 3])\n",
    "\n",
    "newArray = numpy.append (a, [10, 11, 12])\n",
    "\n",
    "print(newArray)\n",
    "\n"
   ]
  },
  {
   "cell_type": "code",
   "execution_count": 6,
   "metadata": {},
   "outputs": [
    {
     "name": "stdout",
     "output_type": "stream",
     "text": [
      "[[  1   2   3 400]\n",
      " [  4   5   6 800]]\n"
     ]
    }
   ],
   "source": [
    "import numpy\n",
    "\n",
    "a = numpy.array([[1,2,3], [4, 5, 6]])\n",
    "\n",
    "b= numpy.array([[400], [800]])\n",
    "\n",
    "newArray = numpy.append (a ,b, axis =1)\n",
    "\n",
    "print (newArray)"
   ]
  },
  {
   "cell_type": "code",
   "execution_count": 7,
   "metadata": {},
   "outputs": [
    {
     "name": "stdout",
     "output_type": "stream",
     "text": [
      "[[ 1  2  3]\n",
      " [ 4  5  6]\n",
      " [10 20 30]]\n"
     ]
    }
   ],
   "source": [
    "import numpy\n",
    "\n",
    "a = numpy.array ([[1, 2, 3], [4, 5, 6], [10, 20, 30]])\n",
    "\n",
    "newArray = numpy.delete(a, 1, axis =0)\n",
    "\n",
    "print (a)"
   ]
  },
  {
   "cell_type": "code",
   "execution_count": 9,
   "metadata": {},
   "outputs": [],
   "source": [
    "def sum(a, b):\n",
    "    for n in  (a, b):\n",
    "        if not isinstance (n, int) and not isinstance(n, float):\n",
    "            raise TypeError\n",
    "    return (a - b)\n"
   ]
  },
  {
   "cell_type": "code",
   "execution_count": 12,
   "metadata": {},
   "outputs": [
    {
     "ename": "ImportError",
     "evalue": "No module named 'mymodule'",
     "output_type": "error",
     "traceback": [
      "\u001b[0;31m---------------------------------------------------------------------------\u001b[0m",
      "\u001b[0;31mImportError\u001b[0m                               Traceback (most recent call last)",
      "\u001b[0;32m<ipython-input-12-a505c39cca48>\u001b[0m in \u001b[0;36m<module>\u001b[0;34m\u001b[0m\n\u001b[1;32m      1\u001b[0m \u001b[0;32mimport\u001b[0m \u001b[0munittest\u001b[0m\u001b[0;34m\u001b[0m\u001b[0m\n\u001b[0;32m----> 2\u001b[0;31m \u001b[0;32mimport\u001b[0m \u001b[0mmymodule\u001b[0m\u001b[0;34m\u001b[0m\u001b[0m\n\u001b[0m\u001b[1;32m      3\u001b[0m \u001b[0;34m\u001b[0m\u001b[0m\n\u001b[1;32m      4\u001b[0m \u001b[0;32mclass\u001b[0m \u001b[0mTestMyModule\u001b[0m \u001b[0;34m(\u001b[0m\u001b[0munittest\u001b[0m\u001b[0;34m.\u001b[0m\u001b[0mTestCase\u001b[0m\u001b[0;34m)\u001b[0m\u001b[0;34m:\u001b[0m\u001b[0;34m\u001b[0m\u001b[0m\n\u001b[1;32m      5\u001b[0m     \u001b[0;32mdef\u001b[0m \u001b[0mtest_sum\u001b[0m\u001b[0;34m(\u001b[0m\u001b[0mself\u001b[0m\u001b[0;34m)\u001b[0m\u001b[0;34m:\u001b[0m\u001b[0;34m\u001b[0m\u001b[0m\n",
      "\u001b[0;31mImportError\u001b[0m: No module named 'mymodule'"
     ]
    }
   ],
   "source": [
    "import unittest\n",
    "import mymodule\n",
    "\n",
    "class TestMyModule (unittest.TestCase):\n",
    "    def test_sum(self):\n",
    "        self.assertEqual(mymodule.sum(5 ,7), 12)\n",
    "        \n",
    "if __name__ == \"__main__\":\n",
    "    unittest.main()"
   ]
  },
  {
   "cell_type": "code",
   "execution_count": 13,
   "metadata": {},
   "outputs": [
    {
     "name": "stdout",
     "output_type": "stream",
     "text": [
      "(array([4, 0, 0, 0, 0, 4, 0, 0, 0, 3]), array([1. , 1.2, 1.4, 1.6, 1.8, 2. , 2.2, 2.4, 2.6, 2.8, 3. ]))\n"
     ]
    }
   ],
   "source": [
    "import numpy as np\n",
    "\n",
    "datos = np.array([1, 2, 1, 2, 3, 1, 2, 3, 3, 2, 1])\n",
    "print (np.histogram(datos))"
   ]
  },
  {
   "cell_type": "code",
   "execution_count": null,
   "metadata": {},
   "outputs": [],
   "source": []
  }
 ],
 "metadata": {
  "kernelspec": {
   "display_name": "Python 3",
   "language": "python",
   "name": "python3"
  },
  "language_info": {
   "codemirror_mode": {
    "name": "ipython",
    "version": 3
   },
   "file_extension": ".py",
   "mimetype": "text/x-python",
   "name": "python",
   "nbconvert_exporter": "python",
   "pygments_lexer": "ipython3",
   "version": "3.5.2"
  }
 },
 "nbformat": 4,
 "nbformat_minor": 2
}
